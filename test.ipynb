{
 "cells": [
  {
   "cell_type": "code",
   "execution_count": null,
   "id": "49b9eb2d",
   "metadata": {},
   "outputs": [],
   "source": [
    "from flask import Flask, request, jsonify\n",
    "from flask_cors import CORS\n",
    "import os\n",
    "\n",
    "app = Flask(__name__)\n",
    "CORS(app)  # Allow requests from Flutter app\n",
    "\n",
    "@app.route('/predict', methods=['POST'])\n",
    "def predict():\n",
    "    image = request.files['image']\n",
    "    image.save('input.jpg')\n",
    "\n",
    "    # Run YOLO + classifier\n",
    "    # Example: result = your_prediction_function('input.jpg')\n",
    "    result = [\"leaf_blight\", \"rust\"]\n",
    "\n",
    "    return jsonify({'diseases': result})\n",
    "\n",
    "if __name__ == '__main__':\n",
    "    app.run(host='0.0.0.0', port=5000)\n"
   ]
  }
 ],
 "metadata": {
  "language_info": {
   "name": "python"
  }
 },
 "nbformat": 4,
 "nbformat_minor": 5
}
